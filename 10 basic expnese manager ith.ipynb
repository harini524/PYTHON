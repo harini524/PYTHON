{
 "cells": [
  {
   "cell_type": "code",
   "execution_count": null,
   "id": "04d0faf7-8d63-4661-9867-9408c7ea53ba",
   "metadata": {},
   "outputs": [
    {
     "name": "stdout",
     "output_type": "stream",
     "text": [
      "\n",
      "Expense Tracker Application\n",
      "1. Add Expense\n",
      "2. View Expenses\n",
      "3. Delete All Expenses\n",
      "4. Exit\n"
     ]
    },
    {
     "name": "stdin",
     "output_type": "stream",
     "text": [
      "Enter choice:  1\n",
      "Enter date (YYYY-MM-DD):  2025-02-21\n",
      "Enter category (Food, Transport, etc.):  food\n",
      "Enter amount:  7000\n"
     ]
    },
    {
     "name": "stdout",
     "output_type": "stream",
     "text": [
      "Expense added successfully!\n",
      "\n",
      "Expense Tracker Application\n",
      "1. Add Expense\n",
      "2. View Expenses\n",
      "3. Delete All Expenses\n",
      "4. Exit\n"
     ]
    }
   ],
   "source": [
    "import os\n",
    "\n",
    "EXPENSE_FILE = \"expenses.txt\" \n",
    "def add_expense():\n",
    "    date = input(\"Enter date (YYYY-MM-DD): \")\n",
    "    category = input(\"Enter category (Food, Transport, etc.): \")\n",
    "    amount = input(\"Enter amount: \")\n",
    "   \n",
    "    with open(EXPENSE_FILE, \"a\") as file:  \n",
    "        file.write(f\"{date}, {category}, {amount}\\n\")\n",
    "    print(\"Expense added successfully!\")\n",
    "def view_expenses():\n",
    "    if os.path.exists(EXPENSE_FILE): \n",
    "        with open(EXPENSE_FILE, \"r\") as file:\n",
    "            expenses = file.readlines()\n",
    "        if expenses:\n",
    "            print(\"\\nYour Expenses:\")\n",
    "            for idx, expense in enumerate(expenses, start=1):\n",
    "                print(f\"{idx}. {expense.strip()}\")\n",
    "        else:\n",
    "            print(\"No expenses found.\")\n",
    "    else:\n",
    "        print(\"No expenses found.\")\n",
    "def delete_expenses():\n",
    "    if os.path.exists(EXPENSE_FILE):\n",
    "        os.remove(EXPENSE_FILE)  \n",
    "        print(\"All expenses deleted successfully!\")\n",
    "    else:\n",
    "        print(\"No expenses to delete.\")\n",
    "while True:\n",
    "    print(\"\\nExpense Tracker Application\")\n",
    "    print(\"1. Add Expense\")\n",
    "    print(\"2. View Expenses\")\n",
    "    print(\"3. Delete All Expenses\")\n",
    "    print(\"4. Exit\")\n",
    "    choice = input(\"Enter choice: \")\n",
    "    if choice == \"1\":\n",
    "        add_expense()\n",
    "    elif choice == \"2\":\n",
    "        view_expenses()\n",
    "    elif choice == \"3\":\n",
    "        delete_expenses()\n",
    "    elif choice == \"4\":\n",
    "        print(\"Exiting. Goodbye!\")\n",
    "        break\n",
    "    else:\n",
    "        print(\"Invalid choice. Try again.\")"
   ]
  },
  {
   "cell_type": "code",
   "execution_count": null,
   "id": "862dceea-1bc0-4455-a4f0-3100af67df22",
   "metadata": {},
   "outputs": [],
   "source": []
  }
 ],
 "metadata": {
  "kernelspec": {
   "display_name": "Python 3",
   "language": "python",
   "name": "python3"
  },
  "language_info": {
   "codemirror_mode": {
    "name": "ipython",
    "version": 3
   },
   "file_extension": ".py",
   "mimetype": "text/x-python",
   "name": "python",
   "nbconvert_exporter": "python",
   "pygments_lexer": "ipython3",
   "version": "3.6.15"
  }
 },
 "nbformat": 4,
 "nbformat_minor": 5
}
